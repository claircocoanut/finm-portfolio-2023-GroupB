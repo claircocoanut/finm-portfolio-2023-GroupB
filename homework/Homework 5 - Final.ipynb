{
 "cells": [
  {
   "cell_type": "code",
   "execution_count": 1,
   "id": "initial_id",
   "metadata": {
    "collapsed": true,
    "ExecuteTime": {
     "end_time": "2023-10-30T16:18:11.665673Z",
     "start_time": "2023-10-30T16:18:11.664444Z"
    }
   },
   "outputs": [],
   "source": [
    "import pandas as pd\n",
    "import numpy as np"
   ]
  },
  {
   "cell_type": "code",
   "execution_count": 2,
   "outputs": [
    {
     "data": {
      "text/plain": "               MKT     SMB     HML     RMW     CMA     UMD\nDate                                                      \n1980-01-31  0.0551  0.0183  0.0175 -0.0170  0.0164  0.0755\n1980-02-29 -0.0122 -0.0157  0.0061  0.0004  0.0268  0.0788\n1980-03-31 -0.1290 -0.0693 -0.0101  0.0146 -0.0119 -0.0955\n1980-04-30  0.0397  0.0105  0.0106 -0.0210  0.0029 -0.0043\n1980-05-31  0.0526  0.0211  0.0038  0.0034 -0.0031 -0.0112",
      "text/html": "<div>\n<style scoped>\n    .dataframe tbody tr th:only-of-type {\n        vertical-align: middle;\n    }\n\n    .dataframe tbody tr th {\n        vertical-align: top;\n    }\n\n    .dataframe thead th {\n        text-align: right;\n    }\n</style>\n<table border=\"1\" class=\"dataframe\">\n  <thead>\n    <tr style=\"text-align: right;\">\n      <th></th>\n      <th>MKT</th>\n      <th>SMB</th>\n      <th>HML</th>\n      <th>RMW</th>\n      <th>CMA</th>\n      <th>UMD</th>\n    </tr>\n    <tr>\n      <th>Date</th>\n      <th></th>\n      <th></th>\n      <th></th>\n      <th></th>\n      <th></th>\n      <th></th>\n    </tr>\n  </thead>\n  <tbody>\n    <tr>\n      <th>1980-01-31</th>\n      <td>0.0551</td>\n      <td>0.0183</td>\n      <td>0.0175</td>\n      <td>-0.0170</td>\n      <td>0.0164</td>\n      <td>0.0755</td>\n    </tr>\n    <tr>\n      <th>1980-02-29</th>\n      <td>-0.0122</td>\n      <td>-0.0157</td>\n      <td>0.0061</td>\n      <td>0.0004</td>\n      <td>0.0268</td>\n      <td>0.0788</td>\n    </tr>\n    <tr>\n      <th>1980-03-31</th>\n      <td>-0.1290</td>\n      <td>-0.0693</td>\n      <td>-0.0101</td>\n      <td>0.0146</td>\n      <td>-0.0119</td>\n      <td>-0.0955</td>\n    </tr>\n    <tr>\n      <th>1980-04-30</th>\n      <td>0.0397</td>\n      <td>0.0105</td>\n      <td>0.0106</td>\n      <td>-0.0210</td>\n      <td>0.0029</td>\n      <td>-0.0043</td>\n    </tr>\n    <tr>\n      <th>1980-05-31</th>\n      <td>0.0526</td>\n      <td>0.0211</td>\n      <td>0.0038</td>\n      <td>0.0034</td>\n      <td>-0.0031</td>\n      <td>-0.0112</td>\n    </tr>\n  </tbody>\n</table>\n</div>"
     },
     "execution_count": 2,
     "metadata": {},
     "output_type": "execute_result"
    }
   ],
   "source": [
    "df = pd.read_excel(\"../data/factor_pricing_data.xlsx\", sheet_name=\"factors (excess returns)\")\n",
    "df.set_index(\"Date\", inplace=True)\n",
    "df.head()"
   ],
   "metadata": {
    "collapsed": false,
    "ExecuteTime": {
     "end_time": "2023-10-30T16:18:13.068278Z",
     "start_time": "2023-10-30T16:18:12.872468Z"
    }
   },
   "id": "e744cb50e98b1868"
  },
  {
   "cell_type": "code",
   "execution_count": 3,
   "outputs": [
    {
     "data": {
      "text/plain": "             MKT       SMB       HML       RMW       CMA       UMD\nmean    0.084562  0.011206  0.025324  0.046525  0.032492  0.060925\nstd     0.157284  0.100525  0.110162  0.083404  0.073379  0.155507\nvar    -0.075570 -0.042220 -0.042100 -0.027680 -0.027540 -0.068190\nsharpe  0.537641  0.111476  0.229880  0.557824  0.442794  0.391780",
      "text/html": "<div>\n<style scoped>\n    .dataframe tbody tr th:only-of-type {\n        vertical-align: middle;\n    }\n\n    .dataframe tbody tr th {\n        vertical-align: top;\n    }\n\n    .dataframe thead th {\n        text-align: right;\n    }\n</style>\n<table border=\"1\" class=\"dataframe\">\n  <thead>\n    <tr style=\"text-align: right;\">\n      <th></th>\n      <th>MKT</th>\n      <th>SMB</th>\n      <th>HML</th>\n      <th>RMW</th>\n      <th>CMA</th>\n      <th>UMD</th>\n    </tr>\n  </thead>\n  <tbody>\n    <tr>\n      <th>mean</th>\n      <td>0.084562</td>\n      <td>0.011206</td>\n      <td>0.025324</td>\n      <td>0.046525</td>\n      <td>0.032492</td>\n      <td>0.060925</td>\n    </tr>\n    <tr>\n      <th>std</th>\n      <td>0.157284</td>\n      <td>0.100525</td>\n      <td>0.110162</td>\n      <td>0.083404</td>\n      <td>0.073379</td>\n      <td>0.155507</td>\n    </tr>\n    <tr>\n      <th>var</th>\n      <td>-0.075570</td>\n      <td>-0.042220</td>\n      <td>-0.042100</td>\n      <td>-0.027680</td>\n      <td>-0.027540</td>\n      <td>-0.068190</td>\n    </tr>\n    <tr>\n      <th>sharpe</th>\n      <td>0.537641</td>\n      <td>0.111476</td>\n      <td>0.229880</td>\n      <td>0.557824</td>\n      <td>0.442794</td>\n      <td>0.391780</td>\n    </tr>\n  </tbody>\n</table>\n</div>"
     },
     "execution_count": 3,
     "metadata": {},
     "output_type": "execute_result"
    }
   ],
   "source": [
    "# 2.1. \n",
    "from functools import partial\n",
    "\n",
    "def performance_stat(s: pd.Series) -> pd.Series:\n",
    "    \"\"\"\n",
    "    Calculate the mean, volatility, sharpe of given series\n",
    "    \n",
    "    Parameters:\n",
    "        s (pd.Series): \n",
    "            Excess return of certain asset / portfolio\n",
    "            Index: all time period (i.e. monthly)\n",
    "            \n",
    "    Returns:\n",
    "        s_stat: Series contains mean, volatility, sharpe of the input series\n",
    "    \"\"\"\n",
    "    s_stat = s.agg(['mean', 'std', partial(np.quantile, q=0.05, axis=0)]).T\n",
    "    s_stat['mean'] *= 12\n",
    "    s_stat['std'] *= (12 ** (1/2))\n",
    "    s_stat['sharpe'] = s_stat['mean'] / s_stat['std']\n",
    "    return s_stat.rename({\"quantile\": \"var\"})\n",
    "\n",
    "df_stat = df.apply(performance_stat)\n",
    "df_stat"
   ],
   "metadata": {
    "collapsed": false,
    "ExecuteTime": {
     "end_time": "2023-10-30T16:18:13.258994Z",
     "start_time": "2023-10-30T16:18:13.212830Z"
    }
   },
   "id": "650fe46a85f4c891"
  },
  {
   "cell_type": "code",
   "execution_count": 4,
   "outputs": [
    {
     "data": {
      "text/plain": "             MKT       SMB       HML       RMW       CMA       UMD\nmean    0.111705 -0.008377 -0.025817  0.048594  0.001794  0.006501\nstd     0.162705  0.098268  0.135825  0.073131  0.086965  0.144006\nvar    -0.080850 -0.043480 -0.058610 -0.024000 -0.031950 -0.067430\nsharpe  0.686549 -0.085244 -0.190080  0.664483  0.020631  0.045144",
      "text/html": "<div>\n<style scoped>\n    .dataframe tbody tr th:only-of-type {\n        vertical-align: middle;\n    }\n\n    .dataframe tbody tr th {\n        vertical-align: top;\n    }\n\n    .dataframe thead th {\n        text-align: right;\n    }\n</style>\n<table border=\"1\" class=\"dataframe\">\n  <thead>\n    <tr style=\"text-align: right;\">\n      <th></th>\n      <th>MKT</th>\n      <th>SMB</th>\n      <th>HML</th>\n      <th>RMW</th>\n      <th>CMA</th>\n      <th>UMD</th>\n    </tr>\n  </thead>\n  <tbody>\n    <tr>\n      <th>mean</th>\n      <td>0.111705</td>\n      <td>-0.008377</td>\n      <td>-0.025817</td>\n      <td>0.048594</td>\n      <td>0.001794</td>\n      <td>0.006501</td>\n    </tr>\n    <tr>\n      <th>std</th>\n      <td>0.162705</td>\n      <td>0.098268</td>\n      <td>0.135825</td>\n      <td>0.073131</td>\n      <td>0.086965</td>\n      <td>0.144006</td>\n    </tr>\n    <tr>\n      <th>var</th>\n      <td>-0.080850</td>\n      <td>-0.043480</td>\n      <td>-0.058610</td>\n      <td>-0.024000</td>\n      <td>-0.031950</td>\n      <td>-0.067430</td>\n    </tr>\n    <tr>\n      <th>sharpe</th>\n      <td>0.686549</td>\n      <td>-0.085244</td>\n      <td>-0.190080</td>\n      <td>0.664483</td>\n      <td>0.020631</td>\n      <td>0.045144</td>\n    </tr>\n  </tbody>\n</table>\n</div>"
     },
     "execution_count": 4,
     "metadata": {},
     "output_type": "execute_result"
    }
   ],
   "source": [
    "df_stat_2015 = df.loc['2015':].apply(performance_stat)\n",
    "df_stat_2015"
   ],
   "metadata": {
    "collapsed": false,
    "ExecuteTime": {
     "end_time": "2023-10-30T16:18:13.407946Z",
     "start_time": "2023-10-30T16:18:13.389539Z"
    }
   },
   "id": "9de2979937c91dfa"
  },
  {
   "cell_type": "markdown",
   "source": [
    "2.2. \n",
    "All factor has positive premium with all period samples. \n",
    "Factors except for SMB (size) and HML (value) has positive premium with since 2015 samples."
   ],
   "metadata": {
    "collapsed": false
   },
   "id": "5527c48e6de9d65"
  },
  {
   "cell_type": "code",
   "execution_count": 5,
   "outputs": [
    {
     "name": "stdout",
     "output_type": "stream",
     "text": [
      "Highest correlation: ('CMA', 'HML'); Lowest correlation: ('RMW', 'SMB')\n"
     ]
    },
    {
     "data": {
      "text/plain": "<Axes: >"
     },
     "execution_count": 5,
     "metadata": {},
     "output_type": "execute_result"
    },
    {
     "data": {
      "text/plain": "<Figure size 640x480 with 2 Axes>",
      "image/png": "[encoded data removed]"
     },
     "metadata": {},
     "output_type": "display_data"
    }
   ],
   "source": [
    "# 2.3. \n",
    "\n",
    "def correlation_stat(df: pd.DataFrame) -> pd.DataFrame:\n",
    "    \"\"\"\n",
    "    Calculate correlation between assets and print highest and lowest correlations pair\n",
    "    \n",
    "    Parameters:\n",
    "        df (pd.DataFrame): \n",
    "            Asset returns df.\n",
    "            Columns: all assets\n",
    "            Index: all time period (i.e. monthly)\n",
    "    Returns: \n",
    "        pd.DataFrame of correlation matrix\n",
    "    \"\"\"\n",
    "    df_corr = df.corr()\n",
    "    df_corr_unstack = df_corr.unstack().sort_values()\n",
    "    df_corr_unstack = df_corr_unstack[df_corr_unstack.index.get_level_values(0) != \n",
    "                                      df_corr_unstack.index.get_level_values(1)]\n",
    "    print(f\"Highest correlation: {df_corr_unstack.index[-1]}; Lowest correlation: {df_corr_unstack.index[0]}\")\n",
    "    return df_corr\n",
    "    \n",
    "df_corr = correlation_stat(df)\n",
    "\n",
    "import seaborn as sns\n",
    "sns.heatmap(df_corr, annot=True)"
   ],
   "metadata": {
    "collapsed": false,
    "ExecuteTime": {
     "end_time": "2023-10-30T16:18:13.923785Z",
     "start_time": "2023-10-30T16:18:13.757662Z"
    }
   },
   "id": "4167bd50d721a1b4"
  },
  {
   "cell_type": "markdown",
   "source": [
    "Yes. HML has high correlation with CMA thus it's redundant. "
   ],
   "metadata": {
    "collapsed": false
   },
   "id": "6e4768c69ebdf714"
  },
  {
   "cell_type": "code",
   "execution_count": 6,
   "outputs": [
    {
     "data": {
      "text/plain": "HML   -0.061776\nSMB    0.087446\nUMD    0.093818\nMKT    0.203875\nRMW    0.307353\nCMA    0.369283\nName: Tangency Weight, dtype: float64"
     },
     "execution_count": 6,
     "metadata": {},
     "output_type": "execute_result"
    }
   ],
   "source": [
    "# 2.4.\n",
    "\n",
    "def mv_frontier_tang(df: pd.DataFrame, is_reg: bool = False) -> pd.Series:\n",
    "    \"\"\"\n",
    "    Calculate the tangent portfolio weight on efficient frontier\n",
    "    \n",
    "    Parameters:\n",
    "        df (pd.DataFrame): \n",
    "            Excess return df.\n",
    "            Columns: all assets\n",
    "            Index: all time period (i.e. monthly)\n",
    "        is_reg (bool): \n",
    "            If True, use regularized covariance matrix.\n",
    "            \n",
    "    Returns:\n",
    "        weight_tang: tangent portfolio weight in ascending order\n",
    "    \"\"\"\n",
    "    df_cov_ann = df.cov()\n",
    "    if is_reg:\n",
    "        df_cov_ann += np.diag(np.diag(df_cov_ann))\n",
    "        df_cov_ann /= 2\n",
    "    df_cov_mean = pd.Series(np.linalg.inv(df_cov_ann) @ df.mean(), \n",
    "                            index=df_cov_ann.columns.to_list(),\n",
    "                            name='Tangency Weight')\n",
    "    df_tang = df_cov_mean / df_cov_mean.sum()\n",
    "    df_tang.sort_values(inplace=True)\n",
    "    return df_tang\n",
    "\n",
    "weight_tang = mv_frontier_tang(df)\n",
    "weight_tang.sort_values()"
   ],
   "metadata": {
    "collapsed": false,
    "ExecuteTime": {
     "end_time": "2023-10-30T16:18:15.295753Z",
     "start_time": "2023-10-30T16:18:15.281302Z"
    }
   },
   "id": "e073b87b2f5cdf26"
  },
  {
   "cell_type": "code",
   "execution_count": 8,
   "outputs": [
    {
     "data": {
      "text/plain": "         mean  Tangency Weight\nSMB  0.011206         0.087446\nHML  0.025324        -0.061776\nCMA  0.032492         0.369283\nRMW  0.046525         0.307353\nUMD  0.060925         0.093818\nMKT  0.084562         0.203875",
      "text/html": "<div>\n<style scoped>\n    .dataframe tbody tr th:only-of-type {\n        vertical-align: middle;\n    }\n\n    .dataframe tbody tr th {\n        vertical-align: top;\n    }\n\n    .dataframe thead th {\n        text-align: right;\n    }\n</style>\n<table border=\"1\" class=\"dataframe\">\n  <thead>\n    <tr style=\"text-align: right;\">\n      <th></th>\n      <th>mean</th>\n      <th>Tangency Weight</th>\n    </tr>\n  </thead>\n  <tbody>\n    <tr>\n      <th>SMB</th>\n      <td>0.011206</td>\n      <td>0.087446</td>\n    </tr>\n    <tr>\n      <th>HML</th>\n      <td>0.025324</td>\n      <td>-0.061776</td>\n    </tr>\n    <tr>\n      <th>CMA</th>\n      <td>0.032492</td>\n      <td>0.369283</td>\n    </tr>\n    <tr>\n      <th>RMW</th>\n      <td>0.046525</td>\n      <td>0.307353</td>\n    </tr>\n    <tr>\n      <th>UMD</th>\n      <td>0.060925</td>\n      <td>0.093818</td>\n    </tr>\n    <tr>\n      <th>MKT</th>\n      <td>0.084562</td>\n      <td>0.203875</td>\n    </tr>\n  </tbody>\n</table>\n</div>"
     },
     "execution_count": 8,
     "metadata": {},
     "output_type": "execute_result"
    }
   ],
   "source": [
    "pd.concat([df_stat.T[\"mean\"], weight_tang], axis=1).sort_values(by=\"mean\")"
   ],
   "metadata": {
    "collapsed": false,
    "ExecuteTime": {
     "end_time": "2023-10-30T16:19:09.391983Z",
     "start_time": "2023-10-30T16:19:09.364927Z"
    }
   },
   "id": "10401af820558194"
  },
  {
   "cell_type": "markdown",
   "source": [
    "a) By tangency portfolio weight, CMA is the most important factor and HML is the least important one. \n",
    "b) Not sure. Because as seen in the table above, the lowest 3 mean excess returns are SMB, HML, and CMA. While SMB and HML has relatively small weight, CMA has 0.36 weighting and is the most significant factor here."
   ],
   "metadata": {
    "collapsed": false,
    "ExecuteTime": {
     "end_time": "2023-10-30T16:16:39.558205Z",
     "start_time": "2023-10-30T16:16:39.533526Z"
    }
   },
   "id": "64649d9d939479ea"
  },
  {
   "cell_type": "code",
   "execution_count": 9,
   "outputs": [
    {
     "data": {
      "text/plain": "SMB   -0.006204\nUMD    0.300861\nHML    0.348903\nMKT    0.356440\nName: Tangency Weight, dtype: float64"
     },
     "execution_count": 9,
     "metadata": {},
     "output_type": "execute_result"
    }
   ],
   "source": [
    "weight_part_tang = mv_frontier_tang(df[[\"MKT\", \"SMB\", \"UMD\", \"HML\"]])\n",
    "weight_part_tang.sort_values()"
   ],
   "metadata": {
    "collapsed": false,
    "ExecuteTime": {
     "end_time": "2023-10-30T16:22:24.116214Z",
     "start_time": "2023-10-30T16:22:24.049351Z"
    }
   },
   "id": "bcd2bc12f07841b5"
  },
  {
   "cell_type": "markdown",
   "source": [
    "c) Now MKT has the highest tangency weight and SMB has the lowest.\n",
    "\n",
    "Conclusion:\n",
    "- HML/UMD becomes much more important when we removed RMW and CMA from the portfolio.\n",
    "- SMB is not important in both cases. \n",
    "- Removing some factors could change the weighting dramatically. "
   ],
   "metadata": {
    "collapsed": false,
    "ExecuteTime": {
     "end_time": "2023-10-30T16:13:46.568836Z",
     "start_time": "2023-10-30T16:13:46.560974Z"
    }
   },
   "id": "5165dee4fde06ced"
  },
  {
   "cell_type": "code",
   "execution_count": 10,
   "outputs": [
    {
     "data": {
      "text/plain": "             Agric   Food    Soda    Beer    Smoke   Toys    Fun     Books  \\\nDate                                                                         \n1980-01-31 -0.0076  0.0285  0.0084  0.1009 -0.0143  0.1002  0.0362  0.0323   \n1980-02-29  0.0105 -0.0608 -0.0966 -0.0322 -0.0569 -0.0323 -0.0521 -0.0800   \n1980-03-31 -0.2224 -0.1119 -0.0167 -0.1469 -0.0193 -0.1271 -0.0826 -0.1237   \n1980-04-30  0.0449  0.0766  0.0232  0.0321  0.0830 -0.0529  0.0783  0.0153   \n1980-05-31  0.0632  0.0793  0.0457  0.0863  0.0815  0.0509  0.0324  0.0886   \n\n             Hshld   Clths  ...   Boxes   Trans   Whlsl   Rtail   Meals  \\\nDate                        ...                                           \n1980-01-31  0.0048  0.0059  ...  0.0158  0.0875  0.0465 -0.0126  0.0430   \n1980-02-29 -0.0555 -0.0167  ... -0.0079 -0.0541 -0.0346 -0.0639 -0.0652   \n1980-03-31 -0.0566 -0.0668  ... -0.0819 -0.1509 -0.1098 -0.0906 -0.1449   \n1980-04-30  0.0304  0.0115  ...  0.0420 -0.0103 -0.0312  0.0353  0.0542   \n1980-05-31  0.0560  0.0098  ...  0.0564  0.1063  0.1142  0.0877  0.1134   \n\n             Banks   Insur   RlEst   Fin     Other  \nDate                                                \n1980-01-31 -0.0283  0.0258  0.0768  0.0308  0.0669  \n1980-02-29 -0.0854 -0.0959 -0.0347 -0.0282 -0.0274  \n1980-03-31 -0.0560 -0.0880 -0.2451 -0.1254 -0.1726  \n1980-04-30  0.0728  0.0530  0.0977  0.0447  0.0769  \n1980-05-31  0.0578  0.0557  0.0915  0.0844  0.0685  \n\n[5 rows x 49 columns]",
      "text/html": "<div>\n<style scoped>\n    .dataframe tbody tr th:only-of-type {\n        vertical-align: middle;\n    }\n\n    .dataframe tbody tr th {\n        vertical-align: top;\n    }\n\n    .dataframe thead th {\n        text-align: right;\n    }\n</style>\n<table border=\"1\" class=\"dataframe\">\n  <thead>\n    <tr style=\"text-align: right;\">\n      <th></th>\n      <th>Agric</th>\n      <th>Food</th>\n      <th>Soda</th>\n      <th>Beer</th>\n      <th>Smoke</th>\n      <th>Toys</th>\n      <th>Fun</th>\n      <th>Books</th>\n      <th>Hshld</th>\n      <th>Clths</th>\n      <th>...</th>\n      <th>Boxes</th>\n      <th>Trans</th>\n      <th>Whlsl</th>\n      <th>Rtail</th>\n      <th>Meals</th>\n      <th>Banks</th>\n      <th>Insur</th>\n      <th>RlEst</th>\n      <th>Fin</th>\n      <th>Other</th>\n    </tr>\n    <tr>\n      <th>Date</th>\n      <th></th>\n      <th></th>\n      <th></th>\n      <th></th>\n      <th></th>\n      <th></th>\n      <th></th>\n      <th></th>\n      <th></th>\n      <th></th>\n      <th></th>\n      <th></th>\n      <th></th>\n      <th></th>\n      <th></th>\n      <th></th>\n      <th></th>\n      <th></th>\n      <th></th>\n      <th></th>\n      <th></th>\n    </tr>\n  </thead>\n  <tbody>\n    <tr>\n      <th>1980-01-31</th>\n      <td>-0.0076</td>\n      <td>0.0285</td>\n      <td>0.0084</td>\n      <td>0.1009</td>\n      <td>-0.0143</td>\n      <td>0.1002</td>\n      <td>0.0362</td>\n      <td>0.0323</td>\n      <td>0.0048</td>\n      <td>0.0059</td>\n      <td>...</td>\n      <td>0.0158</td>\n      <td>0.0875</td>\n      <td>0.0465</td>\n      <td>-0.0126</td>\n      <td>0.0430</td>\n      <td>-0.0283</td>\n      <td>0.0258</td>\n      <td>0.0768</td>\n      <td>0.0308</td>\n      <td>0.0669</td>\n    </tr>\n    <tr>\n      <th>1980-02-29</th>\n      <td>0.0105</td>\n      <td>-0.0608</td>\n      <td>-0.0966</td>\n      <td>-0.0322</td>\n      <td>-0.0569</td>\n      <td>-0.0323</td>\n      <td>-0.0521</td>\n      <td>-0.0800</td>\n      <td>-0.0555</td>\n      <td>-0.0167</td>\n      <td>...</td>\n      <td>-0.0079</td>\n      <td>-0.0541</td>\n      <td>-0.0346</td>\n      <td>-0.0639</td>\n      <td>-0.0652</td>\n      <td>-0.0854</td>\n      <td>-0.0959</td>\n      <td>-0.0347</td>\n      <td>-0.0282</td>\n      <td>-0.0274</td>\n    </tr>\n    <tr>\n      <th>1980-03-31</th>\n      <td>-0.2224</td>\n      <td>-0.1119</td>\n      <td>-0.0167</td>\n      <td>-0.1469</td>\n      <td>-0.0193</td>\n      <td>-0.1271</td>\n      <td>-0.0826</td>\n      <td>-0.1237</td>\n      <td>-0.0566</td>\n      <td>-0.0668</td>\n      <td>...</td>\n      <td>-0.0819</td>\n      <td>-0.1509</td>\n      <td>-0.1098</td>\n      <td>-0.0906</td>\n      <td>-0.1449</td>\n      <td>-0.0560</td>\n      <td>-0.0880</td>\n      <td>-0.2451</td>\n      <td>-0.1254</td>\n      <td>-0.1726</td>\n    </tr>\n    <tr>\n      <th>1980-04-30</th>\n      <td>0.0449</td>\n      <td>0.0766</td>\n      <td>0.0232</td>\n      <td>0.0321</td>\n      <td>0.0830</td>\n      <td>-0.0529</td>\n      <td>0.0783</td>\n      <td>0.0153</td>\n      <td>0.0304</td>\n      <td>0.0115</td>\n      <td>...</td>\n      <td>0.0420</td>\n      <td>-0.0103</td>\n      <td>-0.0312</td>\n      <td>0.0353</td>\n      <td>0.0542</td>\n      <td>0.0728</td>\n      <td>0.0530</td>\n      <td>0.0977</td>\n      <td>0.0447</td>\n      <td>0.0769</td>\n    </tr>\n    <tr>\n      <th>1980-05-31</th>\n      <td>0.0632</td>\n      <td>0.0793</td>\n      <td>0.0457</td>\n      <td>0.0863</td>\n      <td>0.0815</td>\n      <td>0.0509</td>\n      <td>0.0324</td>\n      <td>0.0886</td>\n      <td>0.0560</td>\n      <td>0.0098</td>\n      <td>...</td>\n      <td>0.0564</td>\n      <td>0.1063</td>\n      <td>0.1142</td>\n      <td>0.0877</td>\n      <td>0.1134</td>\n      <td>0.0578</td>\n      <td>0.0557</td>\n      <td>0.0915</td>\n      <td>0.0844</td>\n      <td>0.0685</td>\n    </tr>\n  </tbody>\n</table>\n<p>5 rows × 49 columns</p>\n</div>"
     },
     "execution_count": 10,
     "metadata": {},
     "output_type": "execute_result"
    }
   ],
   "source": [
    "# 3.1\n",
    "port = pd.read_excel(\"../data/factor_pricing_data.xlsx\", sheet_name=\"portfolios (excess returns)\")\n",
    "port.set_index(\"Date\", inplace=True)\n",
    "port.head()"
   ],
   "metadata": {
    "collapsed": false,
    "ExecuteTime": {
     "end_time": "2023-10-30T16:24:13.001962Z",
     "start_time": "2023-10-30T16:24:12.832505Z"
    }
   },
   "id": "d52e184024ac4b06"
  },
  {
   "cell_type": "code",
   "execution_count": 11,
   "outputs": [
    {
     "data": {
      "text/plain": "          alpha  r_square                                               beta\nAgric  0.009491  0.341333  [0.8378377626632936, 0.17869949509319694, -0.0...\nFood   0.011434  0.471088  [0.6809033215898298, 0.1698407008811335, 0.507...\nSoda   0.019555  0.307178  [0.7846882641472345, 0.20610588069107993, 0.49...\nBeer   0.024178  0.426698  [0.7233302143813405, 0.025182692318808153, 0.6...\nSmoke  0.035317  0.272555  [0.737220230517355, 0.2493440067788692, 0.6574...\nToys  -0.032189  0.510315  [1.1168240816190282, -0.03533577306999296, 0.2...\nFun    0.031788  0.617319  [1.2488683525212823, 0.00017733563035710054, -...\nBooks -0.030329  0.689702  [1.1135656021566633, 0.26547371306713075, 0.17...\nHshld  -0.00551  0.560258  [0.7528024656409584, 0.0008890194963793174, 0....\nClths -0.011724  0.631763  [1.1186135117375888, 0.04947501423351461, 0.56...\nHlth  -0.037288  0.444824  [1.0428429736031208, 0.11754791759068822, 0.45...\nMedEq  0.023412  0.600067  [0.8767717154998919, -0.1471439381483532, 0.10...\nDrugs  0.030985  0.503302  [0.7302120075945627, -0.15987014935022223, 0.2...\nChems -0.023092  0.748344  [1.129765348132034, 0.28945712515155814, 0.297...\nRubbr  0.004444   0.64663  [1.0657417798072766, 0.09818025736858581, 0.13...\nTxtls -0.028386  0.557809  [1.2256188805452701, 0.5328354268414317, 0.289...\nBldMt -0.028049  0.758929  [1.2688674449254789, 0.31320493084440115, 0.38...\nCnstr -0.034357  0.635205  [1.336786749597999, 0.2660411571430606, 0.2184...\nSteel -0.025503  0.630969  [1.401214835990471, 0.33847026748484205, -0.45...\nFabPr  -0.02073  0.420043  [1.0872753490340263, 0.1765161376412974, -0.07...\nMach   -0.00131  0.753203  [1.2299380902641694, 0.09302990203092151, -0.1...\nElcEq  0.003983  0.745137  [1.2539504499046812, -0.007111315998130972, 0....\nAutos  0.014419  0.555082  [1.2997619437089498, 0.18387702908559259, 0.04...\nAero  -0.008997  0.601289  [1.1392320058599297, 0.2902455614239682, 0.373...\nShips -0.041824  0.505822  [1.2143255299186055, 0.4178436216881034, 0.438...\nGuns   0.001425  0.335597  [0.8234497912418317, 0.26489716605597013, 0.62...\nGold   0.002429  0.050383  [0.5609070763366724, 0.019143792889467784, -0....\nMines -0.019166  0.465124  [1.1968995161982876, 0.3260338976021969, 0.054...\nCoal  -0.034908  0.220958  [1.2011872072240963, 0.5371580451533859, -0.27...\nOil   -0.022503  0.465899  [1.002366198251322, 0.6272473630525728, 0.1506...\nUtil   0.004759  0.356958  [0.5465554723547382, 0.3177176848551529, 0.212...\nTelcm  0.005947  0.589162  [0.8320628932140607, 0.1049028142870002, -0.06...\nPerSv  -0.05222  0.582222  [1.081918641062827, 0.15348957415708514, 0.300...\nBusSv -0.000366  0.852923  [1.0875770283835575, -0.12739670804815317, 0.0...\nHardw  0.042445  0.669483  [1.1002719158761471, -0.4652093097911554, -0.4...\nSoftw  0.066834  0.738742  [1.222272891803312, -0.8554646491768348, -0.14...\nChips  0.061967  0.753552  [1.2223223200177542, -0.5388776556932072, -0.4...\nLabEq  0.029572  0.737682  [1.1222685871630764, -0.36281623704651084, -0....\nPaper -0.037549  0.676739  [1.012860887667355, 0.2435546685050224, 0.4125...\nBoxes  0.002115  0.586154  [0.977080940622258, 0.11651508355848522, 0.255...\nTrans -0.017072  0.707433  [1.0933276312931908, 0.18907061762563723, 0.35...\nWhlsl -0.013517  0.756767  [1.0316397077537554, 0.09915309480863513, 0.18...\nRtail  0.019527  0.683464  [0.9813890062963865, -0.14076707909389005, 0.3...\nMeals  0.002487  0.643047  [0.9482352303683717, 0.08065672041323402, 0.50...\nBanks -0.022979  0.772044  [1.159249950536407, 0.7218948364304596, 0.0875...\nInsur -0.008563  0.685298  [0.9797430941490686, 0.4798041561139526, 0.222...\nRlEst -0.056717  0.603615  [1.200073780058002, 0.4907513075940655, 0.0622...\nFin    0.018242  0.812962  [1.238894845999021, 0.3272161521141698, -0.401...\nOther -0.045176  0.595904  [1.0604983323537198, 0.08757281234677808, 0.11...",
      "text/html": "<div>\n<style scoped>\n    .dataframe tbody tr th:only-of-type {\n        vertical-align: middle;\n    }\n\n    .dataframe tbody tr th {\n        vertical-align: top;\n    }\n\n    .dataframe thead th {\n        text-align: right;\n    }\n</style>\n<table border=\"1\" class=\"dataframe\">\n  <thead>\n    <tr style=\"text-align: right;\">\n      <th></th>\n      <th>alpha</th>\n      <th>r_square</th>\n      <th>beta</th>\n    </tr>\n  </thead>\n  <tbody>\n    <tr>\n      <th>Agric</th>\n      <td>0.009491</td>\n      <td>0.341333</td>\n      <td>[0.8378377626632936, 0.17869949509319694, -0.0...</td>\n    </tr>\n    <tr>\n      <th>Food</th>\n      <td>0.011434</td>\n      <td>0.471088</td>\n      <td>[0.6809033215898298, 0.1698407008811335, 0.507...</td>\n    </tr>\n    <tr>\n      <th>Soda</th>\n      <td>0.019555</td>\n      <td>0.307178</td>\n      <td>[0.7846882641472345, 0.20610588069107993, 0.49...</td>\n    </tr>\n    <tr>\n      <th>Beer</th>\n      <td>0.024178</td>\n      <td>0.426698</td>\n      <td>[0.7233302143813405, 0.025182692318808153, 0.6...</td>\n    </tr>\n    <tr>\n      <th>Smoke</th>\n      <td>0.035317</td>\n      <td>0.272555</td>\n      <td>[0.737220230517355, 0.2493440067788692, 0.6574...</td>\n    </tr>\n    <tr>\n      <th>Toys</th>\n      <td>-0.032189</td>\n      <td>0.510315</td>\n      <td>[1.1168240816190282, -0.03533577306999296, 0.2...</td>\n    </tr>\n    <tr>\n      <th>Fun</th>\n      <td>0.031788</td>\n      <td>0.617319</td>\n      <td>[1.2488683525212823, 0.00017733563035710054, -...</td>\n    </tr>\n    <tr>\n      <th>Books</th>\n      <td>-0.030329</td>\n      <td>0.689702</td>\n      <td>[1.1135656021566633, 0.26547371306713075, 0.17...</td>\n    </tr>\n    <tr>\n      <th>Hshld</th>\n      <td>-0.00551</td>\n      <td>0.560258</td>\n      <td>[0.7528024656409584, 0.0008890194963793174, 0....</td>\n    </tr>\n    <tr>\n      <th>Clths</th>\n      <td>-0.011724</td>\n      <td>0.631763</td>\n      <td>[1.1186135117375888, 0.04947501423351461, 0.56...</td>\n    </tr>\n    <tr>\n      <th>Hlth</th>\n      <td>-0.037288</td>\n      <td>0.444824</td>\n      <td>[1.0428429736031208, 0.11754791759068822, 0.45...</td>\n    </tr>\n    <tr>\n      <th>MedEq</th>\n      <td>0.023412</td>\n      <td>0.600067</td>\n      <td>[0.8767717154998919, -0.1471439381483532, 0.10...</td>\n    </tr>\n    <tr>\n      <th>Drugs</th>\n      <td>0.030985</td>\n      <td>0.503302</td>\n      <td>[0.7302120075945627, -0.15987014935022223, 0.2...</td>\n    </tr>\n    <tr>\n      <th>Chems</th>\n      <td>-0.023092</td>\n      <td>0.748344</td>\n      <td>[1.129765348132034, 0.28945712515155814, 0.297...</td>\n    </tr>\n    <tr>\n      <th>Rubbr</th>\n      <td>0.004444</td>\n      <td>0.64663</td>\n      <td>[1.0657417798072766, 0.09818025736858581, 0.13...</td>\n    </tr>\n    <tr>\n      <th>Txtls</th>\n      <td>-0.028386</td>\n      <td>0.557809</td>\n      <td>[1.2256188805452701, 0.5328354268414317, 0.289...</td>\n    </tr>\n    <tr>\n      <th>BldMt</th>\n      <td>-0.028049</td>\n      <td>0.758929</td>\n      <td>[1.2688674449254789, 0.31320493084440115, 0.38...</td>\n    </tr>\n    <tr>\n      <th>Cnstr</th>\n      <td>-0.034357</td>\n      <td>0.635205</td>\n      <td>[1.336786749597999, 0.2660411571430606, 0.2184...</td>\n    </tr>\n    <tr>\n      <th>Steel</th>\n      <td>-0.025503</td>\n      <td>0.630969</td>\n      <td>[1.401214835990471, 0.33847026748484205, -0.45...</td>\n    </tr>\n    <tr>\n      <th>FabPr</th>\n      <td>-0.02073</td>\n      <td>0.420043</td>\n      <td>[1.0872753490340263, 0.1765161376412974, -0.07...</td>\n    </tr>\n    <tr>\n      <th>Mach</th>\n      <td>-0.00131</td>\n      <td>0.753203</td>\n      <td>[1.2299380902641694, 0.09302990203092151, -0.1...</td>\n    </tr>\n    <tr>\n      <th>ElcEq</th>\n      <td>0.003983</td>\n      <td>0.745137</td>\n      <td>[1.2539504499046812, -0.007111315998130972, 0....</td>\n    </tr>\n    <tr>\n      <th>Autos</th>\n      <td>0.014419</td>\n      <td>0.555082</td>\n      <td>[1.2997619437089498, 0.18387702908559259, 0.04...</td>\n    </tr>\n    <tr>\n      <th>Aero</th>\n      <td>-0.008997</td>\n      <td>0.601289</td>\n      <td>[1.1392320058599297, 0.2902455614239682, 0.373...</td>\n    </tr>\n    <tr>\n      <th>Ships</th>\n      <td>-0.041824</td>\n      <td>0.505822</td>\n      <td>[1.2143255299186055, 0.4178436216881034, 0.438...</td>\n    </tr>\n    <tr>\n      <th>Guns</th>\n      <td>0.001425</td>\n      <td>0.335597</td>\n      <td>[0.8234497912418317, 0.26489716605597013, 0.62...</td>\n    </tr>\n    <tr>\n      <th>Gold</th>\n      <td>0.002429</td>\n      <td>0.050383</td>\n      <td>[0.5609070763366724, 0.019143792889467784, -0....</td>\n    </tr>\n    <tr>\n      <th>Mines</th>\n      <td>-0.019166</td>\n      <td>0.465124</td>\n      <td>[1.1968995161982876, 0.3260338976021969, 0.054...</td>\n    </tr>\n    <tr>\n      <th>Coal</th>\n      <td>-0.034908</td>\n      <td>0.220958</td>\n      <td>[1.2011872072240963, 0.5371580451533859, -0.27...</td>\n    </tr>\n    <tr>\n      <th>Oil</th>\n      <td>-0.022503</td>\n      <td>0.465899</td>\n      <td>[1.002366198251322, 0.6272473630525728, 0.1506...</td>\n    </tr>\n    <tr>\n      <th>Util</th>\n      <td>0.004759</td>\n      <td>0.356958</td>\n      <td>[0.5465554723547382, 0.3177176848551529, 0.212...</td>\n    </tr>\n    <tr>\n      <th>Telcm</th>\n      <td>0.005947</td>\n      <td>0.589162</td>\n      <td>[0.8320628932140607, 0.1049028142870002, -0.06...</td>\n    </tr>\n    <tr>\n      <th>PerSv</th>\n      <td>-0.05222</td>\n      <td>0.582222</td>\n      <td>[1.081918641062827, 0.15348957415708514, 0.300...</td>\n    </tr>\n    <tr>\n      <th>BusSv</th>\n      <td>-0.000366</td>\n      <td>0.852923</td>\n      <td>[1.0875770283835575, -0.12739670804815317, 0.0...</td>\n    </tr>\n    <tr>\n      <th>Hardw</th>\n      <td>0.042445</td>\n      <td>0.669483</td>\n      <td>[1.1002719158761471, -0.4652093097911554, -0.4...</td>\n    </tr>\n    <tr>\n      <th>Softw</th>\n      <td>0.066834</td>\n      <td>0.738742</td>\n      <td>[1.222272891803312, -0.8554646491768348, -0.14...</td>\n    </tr>\n    <tr>\n      <th>Chips</th>\n      <td>0.061967</td>\n      <td>0.753552</td>\n      <td>[1.2223223200177542, -0.5388776556932072, -0.4...</td>\n    </tr>\n    <tr>\n      <th>LabEq</th>\n      <td>0.029572</td>\n      <td>0.737682</td>\n      <td>[1.1222685871630764, -0.36281623704651084, -0....</td>\n    </tr>\n    <tr>\n      <th>Paper</th>\n      <td>-0.037549</td>\n      <td>0.676739</td>\n      <td>[1.012860887667355, 0.2435546685050224, 0.4125...</td>\n    </tr>\n    <tr>\n      <th>Boxes</th>\n      <td>0.002115</td>\n      <td>0.586154</td>\n      <td>[0.977080940622258, 0.11651508355848522, 0.255...</td>\n    </tr>\n    <tr>\n      <th>Trans</th>\n      <td>-0.017072</td>\n      <td>0.707433</td>\n      <td>[1.0933276312931908, 0.18907061762563723, 0.35...</td>\n    </tr>\n    <tr>\n      <th>Whlsl</th>\n      <td>-0.013517</td>\n      <td>0.756767</td>\n      <td>[1.0316397077537554, 0.09915309480863513, 0.18...</td>\n    </tr>\n    <tr>\n      <th>Rtail</th>\n      <td>0.019527</td>\n      <td>0.683464</td>\n      <td>[0.9813890062963865, -0.14076707909389005, 0.3...</td>\n    </tr>\n    <tr>\n      <th>Meals</th>\n      <td>0.002487</td>\n      <td>0.643047</td>\n      <td>[0.9482352303683717, 0.08065672041323402, 0.50...</td>\n    </tr>\n    <tr>\n      <th>Banks</th>\n      <td>-0.022979</td>\n      <td>0.772044</td>\n      <td>[1.159249950536407, 0.7218948364304596, 0.0875...</td>\n    </tr>\n    <tr>\n      <th>Insur</th>\n      <td>-0.008563</td>\n      <td>0.685298</td>\n      <td>[0.9797430941490686, 0.4798041561139526, 0.222...</td>\n    </tr>\n    <tr>\n      <th>RlEst</th>\n      <td>-0.056717</td>\n      <td>0.603615</td>\n      <td>[1.200073780058002, 0.4907513075940655, 0.0622...</td>\n    </tr>\n    <tr>\n      <th>Fin</th>\n      <td>0.018242</td>\n      <td>0.812962</td>\n      <td>[1.238894845999021, 0.3272161521141698, -0.401...</td>\n    </tr>\n    <tr>\n      <th>Other</th>\n      <td>-0.045176</td>\n      <td>0.595904</td>\n      <td>[1.0604983323537198, 0.08757281234677808, 0.11...</td>\n    </tr>\n  </tbody>\n</table>\n</div>"
     },
     "execution_count": 11,
     "metadata": {},
     "output_type": "execute_result"
    }
   ],
   "source": [
    "from sklearn.linear_model import LinearRegression\n",
    "\n",
    "def linear_regression_stat(s: pd.Series, factor_list: list[str]) -> pd.Series:\n",
    "    \"\"\"\n",
    "    Run time-series linear regression of certain asset returns \n",
    "    against different factors and report annualized alpha / beta / R^2\n",
    "    \n",
    "    Parameters:\n",
    "        s (pd.Series): \n",
    "            Return series of certain asset\n",
    "        factor_list (list[str]):\n",
    "            List of factors to run regression. \n",
    "        \n",
    "    Returns:\n",
    "        pd.Series of all annualized statistics of given asset\n",
    "    \"\"\"\n",
    "    factor = df.loc[s.index, factor_list]\n",
    "    reg = LinearRegression().fit(factor, s)\n",
    "    \n",
    "    return pd.Series({\n",
    "        \"alpha\": reg.intercept_ * 12,\n",
    "        \"r_square\": reg.score(factor, s),\n",
    "        \"beta\": reg.coef_\n",
    "    })\n",
    "\n",
    "port_stat = port.apply(partial(linear_regression_stat, \n",
    "                               factor_list=[\"MKT\", \"HML\", \"RMW\", \"UMD\"]), axis=0).T\n",
    "port_stat"
   ],
   "metadata": {
    "collapsed": false,
    "ExecuteTime": {
     "end_time": "2023-10-30T16:24:14.897161Z",
     "start_time": "2023-10-30T16:24:14.283924Z"
    }
   },
   "id": "2706d381429e35ca"
  },
  {
   "cell_type": "code",
   "execution_count": 12,
   "outputs": [
    {
     "data": {
      "text/plain": "0.022995449182633243"
     },
     "execution_count": 12,
     "metadata": {},
     "output_type": "execute_result"
    }
   ],
   "source": [
    "mae = port_stat[\"alpha\"].abs().mean()\n",
    "mae"
   ],
   "metadata": {
    "collapsed": false,
    "ExecuteTime": {
     "end_time": "2023-10-30T16:29:27.857337Z",
     "start_time": "2023-10-30T16:29:27.811127Z"
    }
   },
   "id": "f47ece184397ceee"
  },
  {
   "cell_type": "markdown",
   "source": [
    "If pricing model works, the alpha should be low (ideally 0), because ARQ model implies MKT / HML / RMW / UMD could fully explain the excess returns. \n",
    "By our MAE stat = 2.3% per year, the pricing model is not true, because we could not ignore the average +/-2.3% alpha is not ignorable, given the mean excess returns of factors are just single digit percentage."
   ],
   "metadata": {
    "collapsed": false
   },
   "id": "3a170e142e5c692"
  },
  {
   "cell_type": "code",
   "execution_count": 13,
   "outputs": [
    {
     "data": {
      "text/plain": "CAPM    0.020608\nAQR     0.022995\nFF3     0.024200\nFF5     0.031272\nName: MAE, dtype: float64"
     },
     "execution_count": 13,
     "metadata": {},
     "output_type": "execute_result"
    }
   ],
   "source": [
    "# 3.2.\n",
    "\n",
    "port_stat_capm = port.apply(partial(linear_regression_stat, \n",
    "                                    factor_list=[\"MKT\"]), axis=0).T\n",
    "port_stat_fm3 = port.apply(partial(linear_regression_stat, \n",
    "                                   factor_list=[\"MKT\", \"SMB\", \"HML\"]), axis=0).T\n",
    "port_stat_fm5 = port.apply(partial(linear_regression_stat, \n",
    "                                   factor_list=[\"MKT\", \"SMB\", \"HML\", \"RMW\", \"CMA\"]), axis=0).T\n",
    "pd.Series({\n",
    "    \"AQR\": mae,\n",
    "    \"CAPM\": port_stat_capm[\"alpha\"].abs().mean(),\n",
    "    \"FF3\": port_stat_fm3[\"alpha\"].abs().mean(),\n",
    "    \"FF5\": port_stat_fm5[\"alpha\"].abs().mean(),\n",
    "}, name=\"MAE\").sort_values()"
   ],
   "metadata": {
    "collapsed": false,
    "ExecuteTime": {
     "end_time": "2023-10-30T16:32:40.690118Z",
     "start_time": "2023-10-30T16:32:40.466697Z"
    }
   },
   "id": "e35dea0983366a93"
  },
  {
   "cell_type": "markdown",
   "source": [
    "By MAE, CAPM fits the best, although 2% excess return is still not fitting perfectly."
   ],
   "metadata": {
    "collapsed": false
   },
   "id": "255f7d71783b20cb"
  },
  {
   "cell_type": "markdown",
   "source": [
    "3.3.\n",
    "We notice MAE of Fama-French 5 factor (FF5) model is much higher than Fama-French 3 factor (FF3) model, therefore RMW and CMA seems to be unimportant for pricing. \n",
    "On the other hand, AQR model has slightly lower MAE than FF3 model, which indicates the extra UMD (momentum) factor improve the pricing model and should be included."
   ],
   "metadata": {
    "collapsed": false
   },
   "id": "c73f296fd4c93e7d"
  },
  {
   "cell_type": "code",
   "execution_count": 14,
   "outputs": [
    {
     "data": {
      "text/plain": "CAPM    0.528087\nFF3     0.572516\nAQR     0.577081\nFF5     0.597519\nName: Average R2, dtype: float64"
     },
     "execution_count": 14,
     "metadata": {},
     "output_type": "execute_result"
    }
   ],
   "source": [
    "# 3.4.\n",
    "pd.Series({\n",
    "    \"AQR\": port_stat[\"r_square\"].mean(),\n",
    "    \"CAPM\": port_stat_capm[\"r_square\"].mean(),\n",
    "    \"FF3\": port_stat_fm3[\"r_square\"].mean(),\n",
    "    \"FF5\": port_stat_fm5[\"r_square\"].mean(),\n",
    "}, name=\"Average R2\").sort_values()"
   ],
   "metadata": {
    "collapsed": false,
    "ExecuteTime": {
     "end_time": "2023-10-30T16:36:19.810761Z",
     "start_time": "2023-10-30T16:36:19.774534Z"
    }
   },
   "id": "20a99131378e651f"
  },
  {
   "cell_type": "markdown",
   "source": [
    "Maximum average R2 is for FF5 model at ~0.6, which is still relatively low, i.e. not great for linear factor decomposition. But given the conditions, it's useful in a way."
   ],
   "metadata": {
    "collapsed": false
   },
   "id": "5ea70029437d7951"
  },
  {
   "cell_type": "code",
   "execution_count": 27,
   "outputs": [],
   "source": [
    "# 3.5. \n",
    "import statsmodels.api as sm\n",
    "\n",
    "def cross_sectional_regression(s: pd.Series, factor_list: list[str]) -> pd.Series:\n",
    "    \"\"\"\n",
    "    Run cross-sectional linear regression for different models\n",
    "    \n",
    "    Parameters:\n",
    "        s (pd.Series): \n",
    "            Beta series of certain asset\n",
    "        factor_list (list[str]):\n",
    "            List of factors to run regression. \n",
    "        \n",
    "    Returns:\n",
    "        pd.Series of annualized statistics of given asset\n",
    "    \"\"\"\n",
    "    factor = pd.DataFrame(s.to_list(), index=s.index, columns=factor_list)\n",
    "    avg_ret = port.mean()\n",
    "    reg = sm.OLS(avg_ret, factor,missing='drop').fit()\n",
    "    \n",
    "    return pd.Series({\n",
    "        # \"alpha\": reg.intercept_ * 12,\n",
    "        \"mae\": reg.resid.abs().mean() * 12,\n",
    "        # \"mae\": mean_absolute_error(avg_ret, pred_ret) * 12,\n",
    "        # \"r_square\": reg.score(factor, s),\n",
    "        \"lambda\": dict(zip(factor_list, reg.params * 12))\n",
    "    })"
   ],
   "metadata": {
    "collapsed": false,
    "ExecuteTime": {
     "end_time": "2023-10-30T17:10:03.154276Z",
     "start_time": "2023-10-30T17:10:02.557794Z"
    }
   },
   "id": "f70d593b411731cb"
  },
  {
   "cell_type": "code",
   "execution_count": 28,
   "outputs": [
    {
     "data": {
      "text/plain": "          mae                                             lambda\nAQR  0.016395  {'MKT': 0.0876440385619843, 'HML': -0.03975668...\nFF3  0.015031  {'MKT': 0.10156856324729158, 'HML': -0.0646151...\nFF5  0.012982  {'MKT': 0.09569730056127007, 'SMB': -0.0576743...",
      "text/html": "<div>\n<style scoped>\n    .dataframe tbody tr th:only-of-type {\n        vertical-align: middle;\n    }\n\n    .dataframe tbody tr th {\n        vertical-align: top;\n    }\n\n    .dataframe thead th {\n        text-align: right;\n    }\n</style>\n<table border=\"1\" class=\"dataframe\">\n  <thead>\n    <tr style=\"text-align: right;\">\n      <th></th>\n      <th>mae</th>\n      <th>lambda</th>\n    </tr>\n  </thead>\n  <tbody>\n    <tr>\n      <th>AQR</th>\n      <td>0.016395</td>\n      <td>{'MKT': 0.0876440385619843, 'HML': -0.03975668...</td>\n    </tr>\n    <tr>\n      <th>FF3</th>\n      <td>0.015031</td>\n      <td>{'MKT': 0.10156856324729158, 'HML': -0.0646151...</td>\n    </tr>\n    <tr>\n      <th>FF5</th>\n      <td>0.012982</td>\n      <td>{'MKT': 0.09569730056127007, 'SMB': -0.0576743...</td>\n    </tr>\n  </tbody>\n</table>\n</div>"
     },
     "execution_count": 28,
     "metadata": {},
     "output_type": "execute_result"
    }
   ],
   "source": [
    "cross_stat = pd.DataFrame([\n",
    "    cross_sectional_regression(port_stat[\"beta\"], [\"MKT\", \"HML\", \"RMW\", \"UMD\"]).rename(\"AQR\"),\n",
    "    cross_sectional_regression(port_stat_fm3[\"beta\"], [\"MKT\", \"HML\", \"SMB\"]).rename(\"FF3\"),\n",
    "    cross_sectional_regression(port_stat_fm5[\"beta\"], [\"MKT\", \"SMB\", \"HML\", \"RMW\", \"CMA\"]).rename(\"FF5\"),\n",
    "])\n",
    "cross_stat"
   ],
   "metadata": {
    "collapsed": false,
    "ExecuteTime": {
     "end_time": "2023-10-30T17:10:04.769556Z",
     "start_time": "2023-10-30T17:10:04.728537Z"
    }
   },
   "id": "1b9c7660f8375b0"
  },
  {
   "cell_type": "code",
   "execution_count": 29,
   "outputs": [
    {
     "data": {
      "text/plain": "          AQR       FF3       FF5  Time Series\nMKT  0.087644  0.101569  0.095697     0.084562\nHML -0.039757 -0.064615 -0.033504     0.025324\nRMW  0.044399       NaN  0.035899     0.046525\nUMD  0.053375       NaN       NaN     0.060925\nSMB       NaN -0.017476 -0.057674     0.011206\nCMA       NaN       NaN -0.015156     0.032492",
      "text/html": "<div>\n<style scoped>\n    .dataframe tbody tr th:only-of-type {\n        vertical-align: middle;\n    }\n\n    .dataframe tbody tr th {\n        vertical-align: top;\n    }\n\n    .dataframe thead th {\n        text-align: right;\n    }\n</style>\n<table border=\"1\" class=\"dataframe\">\n  <thead>\n    <tr style=\"text-align: right;\">\n      <th></th>\n      <th>AQR</th>\n      <th>FF3</th>\n      <th>FF5</th>\n      <th>Time Series</th>\n    </tr>\n  </thead>\n  <tbody>\n    <tr>\n      <th>MKT</th>\n      <td>0.087644</td>\n      <td>0.101569</td>\n      <td>0.095697</td>\n      <td>0.084562</td>\n    </tr>\n    <tr>\n      <th>HML</th>\n      <td>-0.039757</td>\n      <td>-0.064615</td>\n      <td>-0.033504</td>\n      <td>0.025324</td>\n    </tr>\n    <tr>\n      <th>RMW</th>\n      <td>0.044399</td>\n      <td>NaN</td>\n      <td>0.035899</td>\n      <td>0.046525</td>\n    </tr>\n    <tr>\n      <th>UMD</th>\n      <td>0.053375</td>\n      <td>NaN</td>\n      <td>NaN</td>\n      <td>0.060925</td>\n    </tr>\n    <tr>\n      <th>SMB</th>\n      <td>NaN</td>\n      <td>-0.017476</td>\n      <td>-0.057674</td>\n      <td>0.011206</td>\n    </tr>\n    <tr>\n      <th>CMA</th>\n      <td>NaN</td>\n      <td>NaN</td>\n      <td>-0.015156</td>\n      <td>0.032492</td>\n    </tr>\n  </tbody>\n</table>\n</div>"
     },
     "execution_count": 29,
     "metadata": {},
     "output_type": "execute_result"
    }
   ],
   "source": [
    "premia_comp = pd.concat([\n",
    "    pd.DataFrame(cross_stat[\"lambda\"].to_list(), index=cross_stat.index).T,\n",
    "    df.mean().rename(\"Time Series\") * 12\n",
    "], axis=1)\n",
    "premia_comp"
   ],
   "metadata": {
    "collapsed": false,
    "ExecuteTime": {
     "end_time": "2023-10-30T17:10:16.001031Z",
     "start_time": "2023-10-30T17:10:15.953864Z"
    }
   },
   "id": "9d38e180dd4d38fc"
  },
  {
   "cell_type": "code",
   "execution_count": 30,
   "outputs": [
    {
     "data": {
      "text/plain": "<Axes: title={'center': 'Premia Comparison'}>"
     },
     "execution_count": 30,
     "metadata": {},
     "output_type": "execute_result"
    },
    {
     "data": {
      "text/plain": "<Figure size 640x480 with 1 Axes>",
      "image/png": "[encoded data removed]"
     },
     "metadata": {},
     "output_type": "display_data"
    }
   ],
   "source": [
    "premia_comp.plot.bar(title=\"Premia Comparison\")"
   ],
   "metadata": {
    "collapsed": false,
    "ExecuteTime": {
     "end_time": "2023-10-30T17:10:16.800237Z",
     "start_time": "2023-10-30T17:10:16.680037Z"
    }
   },
   "id": "ba14ca3266d7be4c"
  },
  {
   "cell_type": "markdown",
   "source": [
    "a) Based on the plot above, time-series premia differs quite a lot from the cross-sectional estimations in all 3 models. The most consistent part is the MKT factor always has a positive premia. RMW and UMA also always has positive premium when included.\n",
    "b) Cross-sectional MAE are all lower than the time series regressions. And the ranking inverses. Cross-sectional MAE of FF5 < FF3 < AQR, and therefore makes FF5 the best pricing model comparatively."
   ],
   "metadata": {
    "collapsed": false
   },
   "id": "94ff5543c1f87ee2"
  },
  {
   "cell_type": "markdown",
   "source": [],
   "metadata": {
    "collapsed": false
   },
   "id": "da7ee132a07a6e7c"
  }
 ],
 "metadata": {
  "kernelspec": {
   "display_name": "Python 3",
   "language": "python",
   "name": "python3"
  },
  "language_info": {
   "codemirror_mode": {
    "name": "ipython",
    "version": 2
   },
   "file_extension": ".py",
   "mimetype": "text/x-python",
   "name": "python",
   "nbconvert_exporter": "python",
   "pygments_lexer": "ipython2",
   "version": "2.7.6"
  }
 },
 "nbformat": 4,
 "nbformat_minor": 5
}
