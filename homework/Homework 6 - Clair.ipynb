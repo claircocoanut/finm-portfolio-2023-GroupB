{
 "cells": [
  {
   "cell_type": "code",
   "execution_count": 1,
   "id": "initial_id",
   "metadata": {
    "collapsed": true,
    "ExecuteTime": {
     "end_time": "2023-11-05T04:18:36.665999Z",
     "start_time": "2023-11-05T04:18:36.664390Z"
    }
   },
   "outputs": [],
   "source": [
    "import pandas as pd"
   ]
  },
  {
   "cell_type": "code",
   "execution_count": 2,
   "outputs": [],
   "source": [
    "with pd.ExcelFile(\"../data/momentum_data.xlsx\") as xls:  \n",
    "    mom_factor = pd.read_excel(xls, sheet_name=\"momentum (excess returns)\", index_col=\"Date\").iloc[:, 0]\n",
    "    ff3_factors = pd.read_excel(xls, sheet_name=\"factors (excess returns)\", index_col=\"Date\")\n",
    "    mom_decile = pd.read_excel(xls, sheet_name=\"deciles (total returns)\", index_col=\"Date\")\n",
    "    mom_size = pd.read_excel(xls, sheet_name=\"size_sorts (total returns)\", index_col=\"Date\")\n",
    "    rf = pd.read_excel(xls, sheet_name=\"risk-free rate\", index_col=\"Date\").iloc[:, 0]"
   ],
   "metadata": {
    "collapsed": false,
    "ExecuteTime": {
     "end_time": "2023-11-05T04:18:36.964986Z",
     "start_time": "2023-11-05T04:18:36.668758Z"
    }
   },
   "id": "9089b440d17b6c0"
  },
  {
   "cell_type": "code",
   "execution_count": 3,
   "outputs": [
    {
     "data": {
      "text/plain": "               mean       std      skew    sharpe  corr_mkt  corr_value\n1927_2023  0.074761  0.163066 -2.992276  0.458473 -0.346319   -0.404795\n1927-1993  0.090075  0.159987 -3.809269  0.563018 -0.362513   -0.494935\n1993-2008  0.104327  0.175548 -0.582412  0.594291 -0.234513   -0.129356\n2009-2023 -0.026006  0.161625 -2.697760 -0.160902 -0.385521   -0.309242",
      "text/html": "<div>\n<style scoped>\n    .dataframe tbody tr th:only-of-type {\n        vertical-align: middle;\n    }\n\n    .dataframe tbody tr th {\n        vertical-align: top;\n    }\n\n    .dataframe thead th {\n        text-align: right;\n    }\n</style>\n<table border=\"1\" class=\"dataframe\">\n  <thead>\n    <tr style=\"text-align: right;\">\n      <th></th>\n      <th>mean</th>\n      <th>std</th>\n      <th>skew</th>\n      <th>sharpe</th>\n      <th>corr_mkt</th>\n      <th>corr_value</th>\n    </tr>\n  </thead>\n  <tbody>\n    <tr>\n      <th>1927_2023</th>\n      <td>0.074761</td>\n      <td>0.163066</td>\n      <td>-2.992276</td>\n      <td>0.458473</td>\n      <td>-0.346319</td>\n      <td>-0.404795</td>\n    </tr>\n    <tr>\n      <th>1927-1993</th>\n      <td>0.090075</td>\n      <td>0.159987</td>\n      <td>-3.809269</td>\n      <td>0.563018</td>\n      <td>-0.362513</td>\n      <td>-0.494935</td>\n    </tr>\n    <tr>\n      <th>1993-2008</th>\n      <td>0.104327</td>\n      <td>0.175548</td>\n      <td>-0.582412</td>\n      <td>0.594291</td>\n      <td>-0.234513</td>\n      <td>-0.129356</td>\n    </tr>\n    <tr>\n      <th>2009-2023</th>\n      <td>-0.026006</td>\n      <td>0.161625</td>\n      <td>-2.697760</td>\n      <td>-0.160902</td>\n      <td>-0.385521</td>\n      <td>-0.309242</td>\n    </tr>\n  </tbody>\n</table>\n</div>"
     },
     "execution_count": 3,
     "metadata": {},
     "output_type": "execute_result"
    }
   ],
   "source": [
    "# 1.\n",
    "def performance_stat(s: pd.Series) -> pd.Series:\n",
    "    \"\"\"\n",
    "    Calculate the mean, volatility, sharpe of given series\n",
    "    \n",
    "    Parameters:\n",
    "        s (pd.Series): \n",
    "            Excess return of certain asset / portfolio\n",
    "            Index: all time period (i.e. monthly)\n",
    "            \n",
    "    Returns:\n",
    "        s_stat: Series contains mean, volatility, sharpe of the input series\n",
    "    \"\"\"\n",
    "    s_stat = s.agg(['mean', 'std', 'skew']).T\n",
    "    s_stat['mean'] *= 12\n",
    "    s_stat['std'] *= (12 ** (1/2))\n",
    "    s_stat['sharpe'] = s_stat['mean'] / s_stat['std']\n",
    "    corr = pd.concat([s, ff3_factors.loc[s.index]], axis=1).corr()\n",
    "    s_stat['corr_mkt'] = corr.loc['MKT', 'UMD']\n",
    "    s_stat['corr_value'] = corr.loc['HML', 'UMD']\n",
    "    return s_stat\n",
    "\n",
    "momentum_ff = ((mom_size['SMALL HiPRIOR'] + mom_size['BIG HiPRIOR']) / 2 - \n",
    "               (mom_size['SMALL LoPRIOR'] + mom_size['BIG LoPRIOR']) / 2).rename('UMD')\n",
    "\n",
    "df_stat = pd.DataFrame({\n",
    "    '1927_2023': performance_stat(momentum_ff),\n",
    "    '1927-1993': performance_stat(momentum_ff.loc[:'1993']),\n",
    "    '1993-2008': performance_stat(momentum_ff.loc['1994':'2008']),\n",
    "    '2009-2023': performance_stat(momentum_ff.loc['2009':'2023']),\n",
    "})\n",
    "df_stat.T"
   ],
   "metadata": {
    "collapsed": false,
    "ExecuteTime": {
     "end_time": "2023-11-05T04:18:36.982077Z",
     "start_time": "2023-11-05T04:18:36.968539Z"
    }
   },
   "id": "9941fc969b1ffd3f"
  },
  {
   "cell_type": "markdown",
   "source": [
    "(b)\n",
    "From 1927-1993 to 1993-2009, momentum's mean, sharpe, and the correlation with both market and value increases slightly.\n",
    "From 1993-2009 to 2009-2023, momentum's mean and sharpe decreases dramatically. The correlation with both market and value also decreases.\n",
    "The volatility has no big changes across different periods.\n",
    "\n",
    "(c)\n",
    "Yes. Because the mean return are positive on average over the entire sample period and momentum's correlation with market and value are negative. "
   ],
   "metadata": {
    "collapsed": false
   },
   "id": "8728c8a8c2afe1eb"
  },
  {
   "cell_type": "code",
   "execution_count": 4,
   "outputs": [
    {
     "data": {
      "text/plain": "                mean       std      skew    sharpe  corr_mkt  corr_value\nlong-short  0.040078  0.169639 -1.437502  0.236256 -0.313551   -0.206171\nlong        0.115447  0.178350 -0.463528  0.647306  0.901697   -0.130850",
      "text/html": "<div>\n<style scoped>\n    .dataframe tbody tr th:only-of-type {\n        vertical-align: middle;\n    }\n\n    .dataframe tbody tr th {\n        vertical-align: top;\n    }\n\n    .dataframe thead th {\n        text-align: right;\n    }\n</style>\n<table border=\"1\" class=\"dataframe\">\n  <thead>\n    <tr style=\"text-align: right;\">\n      <th></th>\n      <th>mean</th>\n      <th>std</th>\n      <th>skew</th>\n      <th>sharpe</th>\n      <th>corr_mkt</th>\n      <th>corr_value</th>\n    </tr>\n  </thead>\n  <tbody>\n    <tr>\n      <th>long-short</th>\n      <td>0.040078</td>\n      <td>0.169639</td>\n      <td>-1.437502</td>\n      <td>0.236256</td>\n      <td>-0.313551</td>\n      <td>-0.206171</td>\n    </tr>\n    <tr>\n      <th>long</th>\n      <td>0.115447</td>\n      <td>0.178350</td>\n      <td>-0.463528</td>\n      <td>0.647306</td>\n      <td>0.901697</td>\n      <td>-0.130850</td>\n    </tr>\n  </tbody>\n</table>\n</div>"
     },
     "execution_count": 4,
     "metadata": {},
     "output_type": "execute_result"
    }
   ],
   "source": [
    "# 2.\n",
    "momentum_uff = ((mom_size['SMALL HiPRIOR'] + mom_size['BIG HiPRIOR']) / 2 - rf).rename('UMD')\n",
    "\n",
    "df_stat_size = pd.DataFrame({\n",
    "    'long-short': performance_stat(momentum_ff.loc['1994':'2023']),\n",
    "    'long': performance_stat(momentum_uff.loc['1994':'2023']),\n",
    "}).T\n",
    "df_stat_size"
   ],
   "metadata": {
    "collapsed": false,
    "ExecuteTime": {
     "end_time": "2023-11-05T04:18:36.992923Z",
     "start_time": "2023-11-05T04:18:36.981553Z"
    }
   },
   "id": "3c1074d1ad53ec64"
  },
  {
   "cell_type": "markdown",
   "source": [
    "(b) Yes. Long only has higher mean and sharpe ratio. \n",
    "(c) No. Long only has very high correlation (>0.9) with market factor. But both long and long-short portfolio has negative correlation with value factor, though long only portfolio is higher."
   ],
   "metadata": {
    "collapsed": false
   },
   "id": "dd191720b33f179d"
  },
  {
   "cell_type": "code",
   "execution_count": 5,
   "outputs": [
    {
     "data": {
      "text/plain": "<Axes: title={'center': 'Cumulative Product'}, xlabel='Date'>"
     },
     "execution_count": 5,
     "metadata": {},
     "output_type": "execute_result"
    },
    {
     "data": {
      "text/plain": "<Figure size 640x480 with 1 Axes>",
      "image/png": "[encoded data removed]"
     },
     "metadata": {},
     "output_type": "display_data"
    }
   ],
   "source": [
    "(pd.concat([momentum_uff.loc['1994':'2023'].rename('Long'), \n",
    "            momentum_ff.loc['1994':'2023'].rename('Long-Short')], axis=1) + 1).cumprod().plot(title=\"Cumulative Product\")"
   ],
   "metadata": {
    "collapsed": false,
    "ExecuteTime": {
     "end_time": "2023-11-05T04:18:37.189506Z",
     "start_time": "2023-11-05T04:18:36.992795Z"
    }
   },
   "id": "cd6f605c75c8e0dd"
  },
  {
   "cell_type": "code",
   "execution_count": 6,
   "outputs": [
    {
     "data": {
      "text/plain": "           mean       std      skew    sharpe  corr_mkt  corr_value\ntop-1  0.074873  0.298583 -1.307240  0.250762 -0.329943   -0.214096\ntop-3  0.024814  0.194199 -1.350529  0.127774 -0.370049   -0.194311\ntop-5  0.013016  0.134476 -1.428013  0.096792 -0.359342   -0.194664",
      "text/html": "<div>\n<style scoped>\n    .dataframe tbody tr th:only-of-type {\n        vertical-align: middle;\n    }\n\n    .dataframe tbody tr th {\n        vertical-align: top;\n    }\n\n    .dataframe thead th {\n        text-align: right;\n    }\n</style>\n<table border=\"1\" class=\"dataframe\">\n  <thead>\n    <tr style=\"text-align: right;\">\n      <th></th>\n      <th>mean</th>\n      <th>std</th>\n      <th>skew</th>\n      <th>sharpe</th>\n      <th>corr_mkt</th>\n      <th>corr_value</th>\n    </tr>\n  </thead>\n  <tbody>\n    <tr>\n      <th>top-1</th>\n      <td>0.074873</td>\n      <td>0.298583</td>\n      <td>-1.307240</td>\n      <td>0.250762</td>\n      <td>-0.329943</td>\n      <td>-0.214096</td>\n    </tr>\n    <tr>\n      <th>top-3</th>\n      <td>0.024814</td>\n      <td>0.194199</td>\n      <td>-1.350529</td>\n      <td>0.127774</td>\n      <td>-0.370049</td>\n      <td>-0.194311</td>\n    </tr>\n    <tr>\n      <th>top-5</th>\n      <td>0.013016</td>\n      <td>0.134476</td>\n      <td>-1.428013</td>\n      <td>0.096792</td>\n      <td>-0.359342</td>\n      <td>-0.194664</td>\n    </tr>\n  </tbody>\n</table>\n</div>"
     },
     "execution_count": 6,
     "metadata": {},
     "output_type": "execute_result"
    }
   ],
   "source": [
    "# 3.\n",
    "momentum_d1 = (mom_decile['Hi PRIOR'] - mom_decile['Lo PRIOR']).rename('UMD')\n",
    "momentum_d3 = (mom_decile.iloc[:, -3:].mean(axis=1) - mom_decile.iloc[:, :3].mean(axis=1)).rename('UMD')\n",
    "momentum_d5 = (mom_decile.iloc[:, -5:].mean(axis=1) - mom_decile.iloc[:, :5].mean(axis=1)).rename('UMD')\n",
    "\n",
    "df_stat_decile = pd.DataFrame({\n",
    "    'top-1': performance_stat(momentum_d1.loc['1994':'2023']),\n",
    "    'top-3': performance_stat(momentum_d3.loc['1994':'2023']),\n",
    "    'top-5': performance_stat(momentum_d5.loc['1994':'2023']),\n",
    "}).T\n",
    "df_stat_decile"
   ],
   "metadata": {
    "collapsed": false,
    "ExecuteTime": {
     "end_time": "2023-11-05T04:18:37.206656Z",
     "start_time": "2023-11-05T04:18:37.191906Z"
    }
   },
   "id": "cb9e4676af87e064"
  },
  {
   "cell_type": "markdown",
   "source": [
    "(b) Yes. Both the mean returns and the volatility are ranked by 1-decile > 3-decile > 5-decile. 1-decile has the highest returns from the most concentrated portfolio and therefore contains higher idiosyncratic risk, i.e. highest volatility.\n",
    "\n",
    "(c) 1-decile. Because 1-decile has the better sharpe ratio. "
   ],
   "metadata": {
    "collapsed": false
   },
   "id": "778de72fdc707015"
  },
  {
   "cell_type": "code",
   "execution_count": 7,
   "outputs": [
    {
     "data": {
      "text/plain": "                mean       std      skew    sharpe  corr_mkt  corr_value\nlong-short  0.040078  0.169639 -1.437502  0.236256 -0.313551   -0.206171\ntop-3       0.024814  0.194199 -1.350529  0.127774 -0.370049   -0.194311",
      "text/html": "<div>\n<style scoped>\n    .dataframe tbody tr th:only-of-type {\n        vertical-align: middle;\n    }\n\n    .dataframe tbody tr th {\n        vertical-align: top;\n    }\n\n    .dataframe thead th {\n        text-align: right;\n    }\n</style>\n<table border=\"1\" class=\"dataframe\">\n  <thead>\n    <tr style=\"text-align: right;\">\n      <th></th>\n      <th>mean</th>\n      <th>std</th>\n      <th>skew</th>\n      <th>sharpe</th>\n      <th>corr_mkt</th>\n      <th>corr_value</th>\n    </tr>\n  </thead>\n  <tbody>\n    <tr>\n      <th>long-short</th>\n      <td>0.040078</td>\n      <td>0.169639</td>\n      <td>-1.437502</td>\n      <td>0.236256</td>\n      <td>-0.313551</td>\n      <td>-0.206171</td>\n    </tr>\n    <tr>\n      <th>top-3</th>\n      <td>0.024814</td>\n      <td>0.194199</td>\n      <td>-1.350529</td>\n      <td>0.127774</td>\n      <td>-0.370049</td>\n      <td>-0.194311</td>\n    </tr>\n  </tbody>\n</table>\n</div>"
     },
     "execution_count": 7,
     "metadata": {},
     "output_type": "execute_result"
    }
   ],
   "source": [
    "# 3.(d)\n",
    "pd.concat([\n",
    "    df_stat_size.iloc[0, :],\n",
    "    df_stat_decile.iloc[1, :]\n",
    "], axis=1).T"
   ],
   "metadata": {
    "collapsed": false,
    "ExecuteTime": {
     "end_time": "2023-11-05T04:18:37.249496Z",
     "start_time": "2023-11-05T04:18:37.207270Z"
    }
   },
   "id": "eb572a8dd3ecb857"
  },
  {
   "cell_type": "markdown",
   "source": [
    "(d) No. There are quite noticeable differences between all stats of the two portfolio. This could be attribute to the fact that we are ignoring the returns of middle size stocks when constructing long-short portfolio in table 2."
   ],
   "metadata": {
    "collapsed": false
   },
   "id": "d9b66b34d8de9759"
  },
  {
   "cell_type": "code",
   "execution_count": 8,
   "outputs": [
    {
     "data": {
      "text/plain": "           mean       std      skew    sharpe  corr_mkt  corr_value\nall    0.040078  0.169639 -1.437502  0.236256 -0.313551   -0.206171\nsmall  0.059358  0.171924 -1.744008  0.345256 -0.309153   -0.146270\nbig    0.020799  0.183927 -0.877121  0.113082 -0.289410   -0.243587",
      "text/html": "<div>\n<style scoped>\n    .dataframe tbody tr th:only-of-type {\n        vertical-align: middle;\n    }\n\n    .dataframe tbody tr th {\n        vertical-align: top;\n    }\n\n    .dataframe thead th {\n        text-align: right;\n    }\n</style>\n<table border=\"1\" class=\"dataframe\">\n  <thead>\n    <tr style=\"text-align: right;\">\n      <th></th>\n      <th>mean</th>\n      <th>std</th>\n      <th>skew</th>\n      <th>sharpe</th>\n      <th>corr_mkt</th>\n      <th>corr_value</th>\n    </tr>\n  </thead>\n  <tbody>\n    <tr>\n      <th>all</th>\n      <td>0.040078</td>\n      <td>0.169639</td>\n      <td>-1.437502</td>\n      <td>0.236256</td>\n      <td>-0.313551</td>\n      <td>-0.206171</td>\n    </tr>\n    <tr>\n      <th>small</th>\n      <td>0.059358</td>\n      <td>0.171924</td>\n      <td>-1.744008</td>\n      <td>0.345256</td>\n      <td>-0.309153</td>\n      <td>-0.146270</td>\n    </tr>\n    <tr>\n      <th>big</th>\n      <td>0.020799</td>\n      <td>0.183927</td>\n      <td>-0.877121</td>\n      <td>0.113082</td>\n      <td>-0.289410</td>\n      <td>-0.243587</td>\n    </tr>\n  </tbody>\n</table>\n</div>"
     },
     "execution_count": 8,
     "metadata": {},
     "output_type": "execute_result"
    }
   ],
   "source": [
    "# 4.\n",
    "momentum_small =(mom_size['SMALL HiPRIOR'] - mom_size['SMALL LoPRIOR']).rename('UMD')\n",
    "momentum_big =(mom_size['BIG HiPRIOR'] - mom_size['BIG LoPRIOR']).rename('UMD')\n",
    "\n",
    "pd.DataFrame({\n",
    "    'all': performance_stat(momentum_ff.loc['1994':'2023']),\n",
    "    'small': performance_stat(momentum_small.loc['1994':'2023']),\n",
    "    'big': performance_stat(momentum_big.loc['1994':'2023']),\n",
    "}).T"
   ],
   "metadata": {
    "collapsed": false,
    "ExecuteTime": {
     "end_time": "2023-11-05T04:18:37.249845Z",
     "start_time": "2023-11-05T04:18:37.213725Z"
    }
   },
   "id": "9e85f62b59becac5"
  },
  {
   "cell_type": "markdown",
   "source": [
    "(b) Yes. Small stocks momentum portfolio has much higher mean return and sharpe ratio. Although big stock portfolio's sharpe ratio is less than optimal, it's noticeable that it still has quite negative correlation with market and value factor (for value, it's even more negative than small portfolio). This means big stock portfolio has value in diversification."
   ],
   "metadata": {
    "collapsed": false
   },
   "id": "758ff9a50edf4e88"
  },
  {
   "cell_type": "code",
   "execution_count": 9,
   "outputs": [
    {
     "data": {
      "text/plain": "            mean       std      skew    sharpe  corr_mkt  corr_value\nfactor  0.040090  0.169641 -1.437432  0.236324 -0.313551   -0.206254\nff3     0.040078  0.169639 -1.437502  0.236256 -0.313551   -0.206171",
      "text/html": "<div>\n<style scoped>\n    .dataframe tbody tr th:only-of-type {\n        vertical-align: middle;\n    }\n\n    .dataframe tbody tr th {\n        vertical-align: top;\n    }\n\n    .dataframe thead th {\n        text-align: right;\n    }\n</style>\n<table border=\"1\" class=\"dataframe\">\n  <thead>\n    <tr style=\"text-align: right;\">\n      <th></th>\n      <th>mean</th>\n      <th>std</th>\n      <th>skew</th>\n      <th>sharpe</th>\n      <th>corr_mkt</th>\n      <th>corr_value</th>\n    </tr>\n  </thead>\n  <tbody>\n    <tr>\n      <th>factor</th>\n      <td>0.040090</td>\n      <td>0.169641</td>\n      <td>-1.437432</td>\n      <td>0.236324</td>\n      <td>-0.313551</td>\n      <td>-0.206254</td>\n    </tr>\n    <tr>\n      <th>ff3</th>\n      <td>0.040078</td>\n      <td>0.169639</td>\n      <td>-1.437502</td>\n      <td>0.236256</td>\n      <td>-0.313551</td>\n      <td>-0.206171</td>\n    </tr>\n  </tbody>\n</table>\n</div>"
     },
     "execution_count": 9,
     "metadata": {},
     "output_type": "execute_result"
    }
   ],
   "source": [
    "# 5\n",
    "pd.DataFrame({\n",
    "    'factor': performance_stat(mom_factor.loc['1994':'2023']),\n",
    "    'ff3': performance_stat(momentum_ff.loc['1994':'2023']),\n",
    "}).T"
   ],
   "metadata": {
    "collapsed": false,
    "ExecuteTime": {
     "end_time": "2023-11-05T04:18:37.250061Z",
     "start_time": "2023-11-05T04:18:37.226788Z"
    }
   },
   "id": "5805c036dfd8126b"
  },
  {
   "cell_type": "markdown",
   "source": [
    "Conclusion: \n",
    "Yes. All stats are very similiar between AQR product and ff3 constructed momentum. \n",
    "Some modifications:\n",
    "- AQR could use select less stocks from top and bottom, e.g. top 1 decile, when constructing long-short portfolio. As shown in table 4, it could deliver higher sharpe ratio. "
   ],
   "metadata": {
    "collapsed": false
   },
   "id": "736703e7c5e94572"
  }
 ],
 "metadata": {
  "kernelspec": {
   "display_name": "Python 3",
   "language": "python",
   "name": "python3"
  },
  "language_info": {
   "codemirror_mode": {
    "name": "ipython",
    "version": 2
   },
   "file_extension": ".py",
   "mimetype": "text/x-python",
   "name": "python",
   "nbconvert_exporter": "python",
   "pygments_lexer": "ipython2",
   "version": "2.7.6"
  }
 },
 "nbformat": 4,
 "nbformat_minor": 5
}
